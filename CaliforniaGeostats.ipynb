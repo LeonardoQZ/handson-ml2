{
  "nbformat": 4,
  "nbformat_minor": 0,
  "metadata": {
    "colab": {
      "name": "CaliforniaGeostats.ipynb",
      "provenance": [],
      "private_outputs": true,
      "collapsed_sections": [],
      "toc_visible": true,
      "authorship_tag": "ABX9TyPYsErdcQhZpwrKOmYPumWb",
      "include_colab_link": true
    },
    "kernelspec": {
      "name": "python3",
      "display_name": "Python 3"
    }
  },
  "cells": [
    {
      "cell_type": "markdown",
      "metadata": {
        "id": "view-in-github",
        "colab_type": "text"
      },
      "source": [
        "<a href=\"https://colab.research.google.com/github/LeonardoQZ/handson-ml2/blob/master/CaliforniaGeostats.ipynb\" target=\"_parent\"><img src=\"https://colab.research.google.com/assets/colab-badge.svg\" alt=\"Open In Colab\"/></a>"
      ]
    },
    {
      "cell_type": "markdown",
      "metadata": {
        "id": "R49bAzsV0vFl",
        "colab_type": "text"
      },
      "source": [
        "# California Housing with Geostatistics"
      ]
    },
    {
      "cell_type": "code",
      "metadata": {
        "id": "pgA1TW_G0zEn",
        "colab_type": "code",
        "colab": {}
      },
      "source": [
        "import pandas as pd\n",
        "import numpy as np\n",
        "\n",
        "from sklearn.datasets import fetch_california_housing\n",
        "from pandas.plotting import scatter_matrix"
      ],
      "execution_count": null,
      "outputs": []
    },
    {
      "cell_type": "markdown",
      "metadata": {
        "id": "By3DWrlQjRhs",
        "colab_type": "text"
      },
      "source": [
        "# Load, inspect and cleanup the data"
      ]
    },
    {
      "cell_type": "code",
      "metadata": {
        "id": "i57Z77ym0uA3",
        "colab_type": "code",
        "colab": {}
      },
      "source": [
        "housing_dataset = fetch_california_housing()\n",
        "print(housing_dataset['DESCR'])"
      ],
      "execution_count": null,
      "outputs": []
    },
    {
      "cell_type": "code",
      "metadata": {
        "id": "p4rw6E6U1klX",
        "colab_type": "code",
        "colab": {}
      },
      "source": [
        "source_columns = housing_dataset['feature_names'] + ['target']\n",
        "housing_df = pd.DataFrame(data= np.c_[housing_dataset['data'], housing_dataset['target']],\n",
        "                     columns= source_columns)"
      ],
      "execution_count": null,
      "outputs": []
    },
    {
      "cell_type": "code",
      "metadata": {
        "id": "2zDYNwVF1mR2",
        "colab_type": "code",
        "colab": {}
      },
      "source": [
        "housing_df.describe()"
      ],
      "execution_count": null,
      "outputs": []
    },
    {
      "cell_type": "code",
      "metadata": {
        "id": "7xv3Zjf_2jwM",
        "colab_type": "code",
        "colab": {}
      },
      "source": [
        "import matplotlib.pyplot as plt\n",
        "housing_df.plot(kind=\"scatter\", x=\"Longitude\", y=\"Latitude\", alpha=0.4,\n",
        "    s=housing_df[\"Population\"]/100, label=\"population\", figsize=(10,7),\n",
        "    c=\"target\", cmap=plt.get_cmap(\"jet\"), colorbar=True,\n",
        "    sharex=False)\n",
        "plt.legend()\n",
        "plt.show()"
      ],
      "execution_count": null,
      "outputs": []
    },
    {
      "cell_type": "markdown",
      "metadata": {
        "id": "eOVI6WnFfqVs",
        "colab_type": "text"
      },
      "source": [
        "There is clearly clipping in the target data. It would make sense to remove the maximum value from the analysis.\n",
        "\n",
        "We will re-index to have simple range compatible with downstream transformations."
      ]
    },
    {
      "cell_type": "code",
      "metadata": {
        "id": "XjaPYnrC9BS3",
        "colab_type": "code",
        "colab": {}
      },
      "source": [
        "fig, axes = plt.subplots(nrows=1, ncols=2, figsize=(12, 6))\n",
        "housing_df['target'].hist(bins=100, ax=axes[0])\n",
        "clipped_indexes = housing_df[ housing_df['target'].ge(5) ].index\n",
        "housing_clipped_df = housing_df.drop(index=clipped_indexes).reset_index()\n",
        "housing_clipped_df['target'].hist(bins=100, ax=axes[1]);"
      ],
      "execution_count": null,
      "outputs": []
    },
    {
      "cell_type": "code",
      "metadata": {
        "id": "ITJO4UaVnbd_",
        "colab_type": "code",
        "colab": {}
      },
      "source": [
        "housing_clipped_df.info()\n",
        "housing_clipped_df.describe()"
      ],
      "execution_count": null,
      "outputs": []
    },
    {
      "cell_type": "markdown",
      "metadata": {
        "id": "-alt_owpjrYb",
        "colab_type": "text"
      },
      "source": [
        "# Define training set with stratified sampling"
      ]
    },
    {
      "cell_type": "markdown",
      "metadata": {
        "id": "Xs_-PZtvXkpE",
        "colab_type": "text"
      },
      "source": [
        "Before doing anything else let us split the data into train and test set. What kind of sampling to use is a non trivial question. There is high correlation between the median income and the target price. "
      ]
    },
    {
      "cell_type": "code",
      "metadata": {
        "id": "IkXXNqjYXlTY",
        "colab_type": "code",
        "colab": {}
      },
      "source": [
        "scatter_matrix(housing_clipped_df[['MedInc', 'target']], figsize=(12, 8));"
      ],
      "execution_count": null,
      "outputs": []
    },
    {
      "cell_type": "markdown",
      "metadata": {
        "id": "am8hbJKLmqnx",
        "colab_type": "text"
      },
      "source": [
        "We want to guarantee that the test set is representative of the income distribution. In practical terms we would want estimation errors from populations of very high income have acceptable confidence intervals. To achieve this we can stratify our sampling by breaking up the dataset into discrete median income categories. The estimation error of statistics on each of this categories will be smaller if we randomly sample independently from them than if we randomly sample without stratification.\n",
        "\n",
        "Let us compare strata by Geron, Pew Research with proportional quantile and decile stratification to quantify estimation errors."
      ]
    },
    {
      "cell_type": "code",
      "metadata": {
        "id": "iYB-oUQKxv4E",
        "colab_type": "code",
        "colab": {}
      },
      "source": [
        "income_category_geron, income_geron_bins = pd.cut(housing_clipped_df[\"MedInc\"],\n",
        "                               bins=[0., 1.5, 3.0, 4.5, 6., np.inf], retbins=True,\n",
        "                               labels=[1, 2, 3, 4, 5])\n",
        "income_category_pew, income_pew_bins = pd.cut(housing_clipped_df[\"MedInc\"],\n",
        "                               bins=[0., 3.1, 4.2, 12.6, 18.8, np.inf], retbins=True,\n",
        "                               labels=[1, 2, 3, 4, 5])\n",
        "income_category_quartiles, income_quartile_bins = pd.qcut(\n",
        "                               housing_clipped_df[\"MedInc\"], 4, retbins=True,\n",
        "                               labels=[str(i+1) for i in range(4)])\n",
        "income_category_deciles, income_decile_bins = pd.qcut(\n",
        "                               housing_clipped_df[\"MedInc\"], 10, retbins=True,\n",
        "                               labels=[str(i+1) for i in range(10)])\n",
        "\n",
        "fig, axes = plt.subplots(nrows=2, ncols=2, figsize=(12, 6))\n",
        "income_category_geron.hist(bins=10, ax=axes[0,0])\n",
        "income_category_pew.hist(bins=10, ax=axes[0,1])\n",
        "income_category_quartiles.hist(bins=10, ax=axes[1,0])\n",
        "income_category_deciles.hist(bins=10, ax=axes[1,1])\n",
        "plt.show()"
      ],
      "execution_count": null,
      "outputs": []
    },
    {
      "cell_type": "code",
      "metadata": {
        "id": "FBrhowBntDGp",
        "colab_type": "code",
        "colab": {}
      },
      "source": [
        "income_categories = pd.DataFrame({\n",
        "    'Geron' : income_category_geron,\n",
        "    'Pew' : income_category_pew,\n",
        "    'Quartiles' : income_category_quartiles,\n",
        "    'Deciles' : income_category_deciles\n",
        "})\n",
        "income_categories.describe()"
      ],
      "execution_count": null,
      "outputs": []
    },
    {
      "cell_type": "code",
      "metadata": {
        "id": "llOdesFyvfWj",
        "colab_type": "code",
        "colab": {}
      },
      "source": [
        "housing_categorized = housing_clipped_df.copy()\n",
        "housing_categorized[income_categories.keys()] = income_categories\n"
      ],
      "execution_count": null,
      "outputs": []
    },
    {
      "cell_type": "code",
      "metadata": {
        "id": "lPsywo6yxQ4f",
        "colab_type": "code",
        "colab": {}
      },
      "source": [
        "from sklearn.model_selection import train_test_split\n",
        "from sklearn.model_selection import StratifiedShuffleSplit\n",
        "\n",
        "train_set_random, test_set_random = train_test_split(housing_categorized, test_size=0.2, random_state=42)\n",
        "split = StratifiedShuffleSplit(n_splits=1, test_size=0.2, random_state=42)"
      ],
      "execution_count": null,
      "outputs": []
    },
    {
      "cell_type": "code",
      "metadata": {
        "id": "RlHCFo83iTz3",
        "colab_type": "code",
        "colab": {}
      },
      "source": [
        "train_sets = {\"Random\" : train_set_random }\n",
        "test_sets = {\"Random\" : test_set_random }\n",
        "for key in income_categories:\n",
        "  for train_index, test_index in split.split(housing_categorized, housing_categorized[key]):\n",
        "    train_sets[key] =  housing_categorized.loc[train_index]\n",
        "    test_sets[key] = housing_categorized.loc[test_index]\n"
      ],
      "execution_count": null,
      "outputs": []
    },
    {
      "cell_type": "code",
      "metadata": {
        "id": "S5HcBhRb8n_U",
        "colab_type": "code",
        "colab": {}
      },
      "source": [
        "def generateCategoryComparison(income_categories):\n",
        "  comparison = {}\n",
        "  for cat in income_categories:\n",
        "    overall = f\"Overall {cat}\"\n",
        "    random = f\"Random {cat}\"\n",
        "    stratified = f\"Stratified {cat}\"\n",
        "    randErr = f\"RandErr {cat}\"\n",
        "    stratErr = f\"StratErr {cat}\"\n",
        "    compare_props = pd.DataFrame({\n",
        "        overall : housing_categorized[cat].value_counts() / len(housing_categorized),\n",
        "        random : train_sets['Random'][cat].value_counts() / len(train_sets['Random']),\n",
        "        stratified : train_sets[cat][cat].value_counts() / len(train_sets[cat])\n",
        "    }).sort_index()\n",
        "    compare_props[randErr] = 100*np.abs(compare_props[random]/compare_props[overall] - 1)\n",
        "    compare_props[stratErr] = 100*np.abs(compare_props[stratified]/compare_props[overall] - 1)\n",
        "    comparison[cat] = compare_props\n",
        "  return comparison"
      ],
      "execution_count": null,
      "outputs": []
    },
    {
      "cell_type": "code",
      "metadata": {
        "id": "B15KtVcoJ3Sc",
        "colab_type": "code",
        "colab": {}
      },
      "source": [
        "cat_comparison = generateCategoryComparison(income_categories)\n"
      ],
      "execution_count": null,
      "outputs": []
    },
    {
      "cell_type": "code",
      "metadata": {
        "id": "KbOhmlAZ-4G-",
        "colab_type": "code",
        "colab": {}
      },
      "source": [
        "cat_comparison"
      ],
      "execution_count": null,
      "outputs": []
    },
    {
      "cell_type": "markdown",
      "metadata": {
        "id": "3uSnKfljC0n6",
        "colab_type": "text"
      },
      "source": [
        "The Income stratification model of Pew Research gives the lowest sampling bias errors but on this particular dataset there are no units with a median in category 5 and very fey in 4. Let us adapt a bit the category."
      ]
    },
    {
      "cell_type": "code",
      "metadata": {
        "id": "oij4uklaGivV",
        "colab_type": "code",
        "colab": {}
      },
      "source": [
        "income_strata, income_strata_bins = pd.cut(housing_clipped_df[\"MedInc\"],\n",
        "                               bins=[0., 3.1, 4.2, 7.5, 9.3, np.inf], retbins=True,\n",
        "                               labels=[1, 2, 3, 4, 5])\n",
        "housing_categorized[\"Strata\"] = income_strata\n",
        "train_set_random, test_set_random = train_test_split(housing_categorized, test_size=0.2, random_state=42)\n",
        "train_sets['Random']=train_set_random\n",
        "test_sets['Random']=test_set_random"
      ],
      "execution_count": null,
      "outputs": []
    },
    {
      "cell_type": "code",
      "metadata": {
        "id": "dSAMHEyKIn8d",
        "colab_type": "code",
        "colab": {}
      },
      "source": [
        "for train_index, test_index in split.split(housing_categorized, housing_categorized[\"Strata\"]):\n",
        "    train_sets[\"Strata\"] =  housing_categorized.loc[train_index]\n",
        "    test_sets[\"Strata\"] = housing_categorized.loc[test_index]"
      ],
      "execution_count": null,
      "outputs": []
    },
    {
      "cell_type": "code",
      "metadata": {
        "id": "og50NarGxv4X",
        "colab_type": "code",
        "colab": {}
      },
      "source": [
        "cat_comparison_final = generateCategoryComparison(['Pew', 'Strata'])"
      ],
      "execution_count": null,
      "outputs": []
    },
    {
      "cell_type": "code",
      "metadata": {
        "id": "w5OoYA4-H8B-",
        "colab_type": "code",
        "colab": {}
      },
      "source": [
        "cat_comparison_final"
      ],
      "execution_count": null,
      "outputs": []
    },
    {
      "cell_type": "code",
      "metadata": {
        "id": "CO-mBdZGQqjT",
        "colab_type": "code",
        "colab": {}
      },
      "source": [
        "income_strata.value_counts()"
      ],
      "execution_count": null,
      "outputs": []
    },
    {
      "cell_type": "markdown",
      "metadata": {
        "id": "W3Q4Vx7IMRHO",
        "colab_type": "text"
      },
      "source": [
        "This seems a good starting point for our train and test dataset. Let us make a copy with the categories removed."
      ]
    },
    {
      "cell_type": "code",
      "metadata": {
        "id": "dptNfVyNMP_3",
        "colab_type": "code",
        "colab": {}
      },
      "source": [
        "train_set = train_sets['Strata'].copy()\n",
        "test_set = test_sets['Strata'].copy()\n",
        "train_set.drop(income_categories, axis=1, inplace=True)\n",
        "train_set.drop('Strata', axis=1, inplace=True)\n",
        "test_set.drop(income_categories, axis=1, inplace=True)\n",
        "test_set.drop('Strata', axis=1, inplace=True)\n"
      ],
      "execution_count": null,
      "outputs": []
    },
    {
      "cell_type": "markdown",
      "metadata": {
        "id": "QIiL7ZJJNjmB",
        "colab_type": "text"
      },
      "source": [
        "# Visualization"
      ]
    },
    {
      "cell_type": "markdown",
      "metadata": {
        "id": "rqjPZZ04DK60",
        "colab_type": "text"
      },
      "source": [
        "Let us get a birds eye view of the correlations in the data"
      ]
    },
    {
      "cell_type": "code",
      "metadata": {
        "id": "tE4axj_v8k0_",
        "colab_type": "code",
        "colab": {}
      },
      "source": [
        "\n",
        "scatter_matrix(train_set, figsize=(12, 8));"
      ],
      "execution_count": null,
      "outputs": []
    },
    {
      "cell_type": "code",
      "metadata": {
        "id": "r7sq5SBcD_2S",
        "colab_type": "code",
        "colab": {}
      },
      "source": [
        "correlations = train_set.corr()\n",
        "print(correlations[\"target\"].sort_values(ascending=False))"
      ],
      "execution_count": null,
      "outputs": []
    },
    {
      "cell_type": "markdown",
      "metadata": {
        "id": "c7aYcYAaHFEp",
        "colab_type": "text"
      },
      "source": [
        "Maybe combining some of the features in a sensible way we can find other correlations"
      ]
    },
    {
      "cell_type": "code",
      "metadata": {
        "id": "49dXp2VlB2XU",
        "colab_type": "code",
        "colab": {}
      },
      "source": [
        "rooms_per_capita = train_set['AveRooms']/train_set['Population']\n",
        "bedroom_ratio = train_set['AveBedrms']/train_set['AveRooms']\n"
      ],
      "execution_count": null,
      "outputs": []
    },
    {
      "cell_type": "code",
      "metadata": {
        "id": "omqz-xwA2zlF",
        "colab_type": "code",
        "colab": {}
      },
      "source": [
        "correlations_xtra = housing_df.corr()\n",
        "print(correlations_xtra[\"target\"].sort_values(ascending=False))\n",
        "\n",
        "corr_threshold = 0.15\n",
        "high_corr = correlations_xtra[\"target\"].sort_values(ascending=False).abs().ge(corr_threshold)\n",
        "high_corr_cols=list(high_corr[high_corr].keys())"
      ],
      "execution_count": null,
      "outputs": []
    },
    {
      "cell_type": "code",
      "metadata": {
        "id": "5ndmBtuNH_O0",
        "colab_type": "code",
        "colab": {}
      },
      "source": [
        "scatter_matrix(housing_df[high_corr_cols], figsize=(12, 8));"
      ],
      "execution_count": null,
      "outputs": []
    },
    {
      "cell_type": "code",
      "metadata": {
        "id": "Z4EOQ5d2jM9E",
        "colab_type": "code",
        "colab": {}
      },
      "source": [
        "from sklearn.model_selection import StratifiedShuffleSplit\n"
      ],
      "execution_count": null,
      "outputs": []
    },
    {
      "cell_type": "code",
      "metadata": {
        "id": "_w4Do5Ohy5Ly",
        "colab_type": "code",
        "colab": {}
      },
      "source": [
        ""
      ],
      "execution_count": null,
      "outputs": []
    }
  ]
}